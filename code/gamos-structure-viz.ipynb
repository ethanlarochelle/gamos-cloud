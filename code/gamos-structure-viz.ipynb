{
 "cells": [
  {
   "cell_type": "markdown",
   "metadata": {},
   "source": [
    "# GAMOS code visualizations\n",
    "\n",
    "The values used below are based on analysis perfromed using the command line tools [df](http://manpages.ubuntu.com/manpages/bionic/en/man1/df.1.html) and [SLOCCount](https://dwheeler.com/sloccount/)"
   ]
  },
  {
   "cell_type": "code",
   "execution_count": null,
   "metadata": {},
   "outputs": [],
   "source": [
    "import os\n",
    "import numpy\n",
    "import squarify\n",
    "from itertools import cycle\n",
    "import matplotlib.pyplot as plt"
   ]
  },
  {
   "cell_type": "code",
   "execution_count": null,
   "metadata": {},
   "outputs": [],
   "source": [
    "output_dir = '../results'"
   ]
  },
  {
   "cell_type": "code",
   "execution_count": null,
   "metadata": {},
   "outputs": [],
   "source": [
    "# Directory sizes\n",
    "plt.rc('font', size=48) \n",
    "plt.figure(figsize=[16,16])\n",
    "squarify.plot(sizes=[3.6, 2.4,1.1, 0.25,0.016], \n",
    "              label=[\"ROOT\\n(3.6G)\", \"GEANT4\\n(2.4G)\", \"GAMOS\\n(1.1G)\", \"dcmtk\\n(250M)\", \"\"], \n",
    "              color=[\"blue\",\"brown\",\"silver\",\"green\", \"yellow\"], alpha=.4 )\n",
    "plt.axis('off')\n",
    "plt.savefig(os.path.join(output_dir,'Directory_size.png'), bbox_inches='tight')\n",
    "plt.show()\n"
   ]
  },
  {
   "cell_type": "code",
   "execution_count": null,
   "metadata": {},
   "outputs": [],
   "source": [
    "# SLOC\n",
    "# ROOT 3,776,557\n",
    "# GEANT4 Source 860,605\n",
    "# GAMOS Source 151,047\n",
    "# DCMTK 324,768\n",
    "# OpenJPEG 51,873\n",
    "plt.rc('font', size=52) \n",
    "plt.figure(figsize=[16,16])\n",
    "squarify.plot(sizes=[3776557, 860605, 324768, 151047, 51873], \n",
    "              label=[\"ROOT\\n(3.8M)\", \"GEANT4\\n(860K)\", \"dcmtk\\n(324K)\", \"GAMOS\\n(151K)\",  \"\"], \n",
    "              color=[\"blue\",\"brown\",\"green\",\"silver\", \"yellow\"], alpha=.4 )\n",
    "plt.axis('off')\n",
    "plt.savefig(os.path.join(output_dir,'SLOC_All.png'), bbox_inches='tight')\n",
    "plt.show()"
   ]
  },
  {
   "cell_type": "code",
   "execution_count": null,
   "metadata": {},
   "outputs": [],
   "source": [
    "sloc_gamos_nums = [469438, 86263, 80603, 35767, 27191, 24403, 21344, 16490, 14494, 11165, 11022, 9923, 9312, 6252, 5901, 5473, 4598, 4309, 3454, 1626, 436]\n",
    "sloc_gamos_labels = ['processes', 'geometry', 'visualization', 'externals', 'particles',\n",
    " 'physics_lists', 'persistency', 'analayis', 'materials', 'global',\n",
    " 'digits_hits', 'interfaces', 'run', 'event', 'error_prop', 'intercoms',\n",
    " 'g3tog4', 'graphics_reps', 'tracking', 'track', 'parameterisations', 'readout']\n",
    "sloc_gamos_labels_mod = ['processes', 'geometry', 'visualization', 'externals', 'particles',\n",
    " 'physics_lists', 'persistency', '8', '9', '10',\n",
    " '11', '12', '13', '14', '15', '16',\n",
    " '17', '18', '19', '20', '21', '22']\n",
    "sloc_gamos_labels_mod_2 = ['processes', 'geometry', 'visualization', 'externals', 'particles',\n",
    " '', '', '', '', '',\n",
    " '', '', '', '', '', '',\n",
    " '', '', '', '', '', '']"
   ]
  },
  {
   "cell_type": "code",
   "execution_count": null,
   "metadata": {},
   "outputs": [],
   "source": [
    "cmap = plt.cm.Spectral\n",
    "# extract all colors from the inferno map\n",
    "cmap_array = numpy.array([cmap(i) for i in range(cmap.N)])\n",
    "num_sizes = len(sloc_gamos_nums)\n",
    "all_colors = numpy.flip(cmap_array[0::int(cmap.N/num_sizes)], axis=0)\n",
    "#all_colors = cmap_array[0::int(cmap.N/num_sizes)]\n"
   ]
  },
  {
   "cell_type": "code",
   "execution_count": null,
   "metadata": {},
   "outputs": [],
   "source": [
    "plt.figure(figsize=[16,11])\n",
    "plt.rc('font', size=40) \n",
    "squarify.plot(sizes=sloc_gamos_nums, \n",
    "              label=sloc_gamos_labels_mod, color=all_colors, alpha=.8 )\n",
    "plt.axis('off')\n",
    "plt.savefig(os.path.join(output_dir,'SLOC_GAMOS.png'), bbox_inches='tight')\n",
    "plt.show()"
   ]
  },
  {
   "cell_type": "code",
   "execution_count": null,
   "metadata": {},
   "outputs": [],
   "source": []
  }
 ],
 "metadata": {
  "kernelspec": {
   "display_name": "Python 3",
   "language": "python",
   "name": "python3"
  },
  "language_info": {
   "codemirror_mode": {
    "name": "ipython",
    "version": 3
   },
   "file_extension": ".py",
   "mimetype": "text/x-python",
   "name": "python",
   "nbconvert_exporter": "python",
   "pygments_lexer": "ipython3",
   "version": "3.7.0"
  }
 },
 "nbformat": 4,
 "nbformat_minor": 2
}
